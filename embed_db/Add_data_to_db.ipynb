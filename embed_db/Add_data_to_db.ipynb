{
 "cells": [
  {
   "cell_type": "code",
   "execution_count": 1,
   "id": "9dddba3e-a986-4ceb-b118-0e6b83471681",
   "metadata": {},
   "outputs": [
    {
     "name": "stdout",
     "output_type": "stream",
     "text": [
      "Requirement already satisfied: psycopg2-binary in /opt/conda/lib/python3.12/site-packages (2.9.10)\n",
      "Requirement already satisfied: lxml in /opt/conda/lib/python3.12/site-packages (5.4.0)\n"
     ]
    }
   ],
   "source": [
    "!pip install psycopg2-binary lxml"
   ]
  },
  {
   "cell_type": "code",
   "execution_count": 2,
   "id": "15abd15e-6ef8-47ba-8345-dd3ace8f6f0e",
   "metadata": {},
   "outputs": [],
   "source": [
    "import psycopg2\n",
    "import xml.etree.ElementTree as ET\n",
    "import os\n",
    "from lxml import etree"
   ]
  },
  {
   "cell_type": "code",
   "execution_count": 3,
   "id": "030e35af-80a4-4668-a794-1ff61a0e0ec9",
   "metadata": {},
   "outputs": [],
   "source": [
    "# Database connection params\n",
    "DB_NAME = \"lei\"\n",
    "DB_USER = \"postgres\"\n",
    "DB_PASSWORD = \"password\"\n",
    "DB_HOST = \"db\"\n",
    "DB_PORT = \"5432\"\n",
    "\n",
    "conn = psycopg2.connect(\n",
    "        dbname=DB_NAME, user=DB_USER, password=DB_PASSWORD, host=DB_HOST, port=DB_PORT\n",
    ")"
   ]
  },
  {
   "cell_type": "raw",
   "id": "b4628a85-fa6f-4561-8af1-1150584526a4",
   "metadata": {},
   "source": [
    "conn.rollback()\n",
    "with conn.cursor() as curr:\n",
    "    curr.execute(\"\"\"DROP TABLE IF EXISTS Names\"\"\")\n",
    "    curr.execute(\"\"\"DROP TABLE IF EXISTS LegalEntities\"\"\")\n",
    "    curr.execute(\n",
    "    \"\"\"CREATE TABLE LegalEntities (\n",
    "        lei varchar(20) NOT NULL PRIMARY KEY,\n",
    "        address_line varchar(1000),\n",
    "        address_city varchar(500),\n",
    "        address_region varchar(500),\n",
    "        address_country varchar(100)\n",
    "                )\"\"\")\n",
    "\n",
    "    curr.execute(\n",
    "    \"\"\"CREATE TABLE Names (\n",
    "        id uuid DEFAULT gen_random_uuid() PRIMARY KEY,\n",
    "        lei varchar(20) NOT NULL REFERENCES LegalEntities(lei),\n",
    "        name varchar(500) NOT NULL \n",
    "                )\"\"\")\n",
    "conn.commit()"
   ]
  },
  {
   "cell_type": "raw",
   "id": "5be2f0a7-a190-4df3-b910-227244352f08",
   "metadata": {},
   "source": [
    "# XML and schema paths\n",
    "#XML_FILE = \"./20170501-gleif-concatenated-file-lei2.xml\"\n",
    "XML_FILE = \"./20250618-0800-gleif-goldencopy-lei2-golden-copy.xml\"\n",
    "XSD_FILE = \"./2021-03-04_lei-cdf-v3-1.xsd\"\n",
    "\n",
    "\n",
    "\n",
    "with open(XSD_FILE, 'rb') as f:\n",
    "    schema_root = etree.XML(f.read())\n",
    "schema = etree.XMLSchema(schema_root)\n",
    "parser = etree.XMLParser(schema=schema)\n",
    "try:\n",
    "    etree.parse(XML_FILE, parser)\n",
    "    print(\"XML is valid against the schema.\")\n",
    "except etree.XMLSyntaxError as e:\n",
    "    raise Exception(f\"XML validation error: {e}\")"
   ]
  },
  {
   "cell_type": "code",
   "execution_count": 16,
   "id": "45704e39-ab13-4cd4-bdb8-23291f2b5754",
   "metadata": {},
   "outputs": [],
   "source": [
    "def find(item, value, ns):\n",
    "    res = item.find(value, ns)\n",
    "    if res is not None:\n",
    "        return res.text\n",
    "    else:\n",
    "        return None"
   ]
  },
  {
   "cell_type": "code",
   "execution_count": 6,
   "id": "0a1d4ca6-5aec-43b2-9b6a-130e4a298bf5",
   "metadata": {},
   "outputs": [
    {
     "ename": "NameError",
     "evalue": "name 'ns' is not defined",
     "output_type": "error",
     "traceback": [
      "\u001b[31m---------------------------------------------------------------------------\u001b[39m",
      "\u001b[31mNameError\u001b[39m                                 Traceback (most recent call last)",
      "\u001b[36mCell\u001b[39m\u001b[36m \u001b[39m\u001b[32mIn[6]\u001b[39m\u001b[32m, line 6\u001b[39m\n\u001b[32m      2\u001b[39m tree = ET.parse(XML_FILE)\n\u001b[32m      3\u001b[39m root = tree.getroot()\n\u001b[32m----> \u001b[39m\u001b[32m6\u001b[39m records = tree.find(\u001b[33m\"\u001b[39m\u001b[33mlei:LEIRecords\u001b[39m\u001b[33m\"\u001b[39m, \u001b[43mns\u001b[49m)\n\u001b[32m      8\u001b[39m \u001b[38;5;28;01mwith\u001b[39;00m conn.cursor() \u001b[38;5;28;01mas\u001b[39;00m cur:\n\u001b[32m      9\u001b[39m     \u001b[38;5;66;03m# Example: Suppose XML structure is <items><item><name>...</name><price>...</price></item></items>\u001b[39;00m\n\u001b[32m     10\u001b[39m     \u001b[38;5;28;01mfor\u001b[39;00m item \u001b[38;5;129;01min\u001b[39;00m records.findall(\u001b[33m\"\u001b[39m\u001b[33mlei:LEIRecord\u001b[39m\u001b[33m\"\u001b[39m ,ns):\n",
      "\u001b[31mNameError\u001b[39m: name 'ns' is not defined"
     ]
    }
   ],
   "source": [
    "XML_FILE = \"./20250618-0800-gleif-goldencopy-lei2-golden-copy.xml\"\n",
    "tree = ET.parse(XML_FILE)\n",
    "root = tree.getroot()"
   ]
  },
  {
   "cell_type": "code",
   "execution_count": 20,
   "id": "f0d27281-205d-4230-8be5-79670270aa58",
   "metadata": {},
   "outputs": [
    {
     "name": "stderr",
     "output_type": "stream",
     "text": [
      "/tmp/ipykernel_629/3123213431.py:26: DeprecationWarning: Testing an element's truth value will always return True in future versions.  Use specific 'len(elem)' or 'elem is not None' test instead.\n",
      "  if other_names:\n"
     ]
    }
   ],
   "source": [
    "ns = {'lei': 'http://www.gleif.org/data/schema/leidata/2016'}\n",
    "records = tree.find(\"lei:LEIRecords\", ns)\n",
    "\n",
    "with conn.cursor() as cur:\n",
    "    # Example: Suppose XML structure is <items><item><name>...</name><price>...</price></item></items>\n",
    "    for item in records.findall(\"lei:LEIRecord\" ,ns):\n",
    "        lei = item.find(\"lei:LEI\", ns).text\n",
    "        name = find(item, \"lei:Entity/lei:LegalName\", ns)\n",
    "        first_address_line = find(item, \"lei:Entity/lei:LegalAddress/lei:FirstAddressLine\", ns)\n",
    "        address_line = find(item, \"lei:Entity/lei:LegalAddress/lei:FirstAddressLine\", ns)\n",
    "        address_city = find(item, \"lei:Entity/lei:LegalAddress/lei:City\", ns)\n",
    "        address_region = find(item, \"lei:Entity/lei:LegalAddress/lei:Region\", ns)\n",
    "        address_country = find(item, \"lei:Entity/lei:LegalAddress/lei:Country\", ns)      \n",
    "        \n",
    "        # Insert into your table\n",
    "        cur.execute(\n",
    "            \"INSERT INTO LegalEntities (lei, address_line, address_city, address_region, address_country) VALUES (%s, %s, %s, %s, %s)\",\n",
    "            (lei, address_line, address_city, address_region, address_country)\n",
    "        )\n",
    "\n",
    "        cur.execute(\n",
    "            \"INSERT INTO Names (lei,name) VALUES (%s, %s)\",\n",
    "            (lei, name)\n",
    "        )\n",
    "        other_names = item.find(\"lei:Entity/lei:OtherEntityNames\", ns)\n",
    "        if other_names is not None:\n",
    "            for names_item in other_names.findall(\"lei:OtherEntityName\"):\n",
    "                names = names_item.text\n",
    "                cur.execute(\n",
    "                    \"INSERT INTO Names (lei,name) VALUES (%s, %s)\",\n",
    "                    (lei, names)\n",
    "                )\n",
    "conn.commit()"
   ]
  },
  {
   "cell_type": "code",
   "execution_count": 26,
   "id": "6d0947c2-8c3e-4822-8705-3d1752c6365b",
   "metadata": {},
   "outputs": [],
   "source": [
    "with conn.cursor() as cur:\n",
    "    for item in records.findall(\"lei:LEIRecord\" ,ns):\n",
    "        lei = item.find(\"lei:LEI\", ns).text\n",
    "        other_names = item.find(\"lei:Entity/lei:OtherEntityNames\", ns)\n",
    "        if other_names is not None:\n",
    "            for names_item in other_names.findall(\"lei:OtherEntityName\", ns):\n",
    "                names = names_item.text\n",
    "                cur.execute(\n",
    "                    \"INSERT INTO Names (lei,name) VALUES (%s, %s)\",\n",
    "                    (lei, names)\n",
    "                )\n",
    "conn.commit()"
   ]
  },
  {
   "cell_type": "code",
   "execution_count": null,
   "id": "9c9b1e06-f2a8-4484-8b96-611c84ae772c",
   "metadata": {},
   "outputs": [],
   "source": [
    "conn.close()"
   ]
  }
 ],
 "metadata": {
  "kernelspec": {
   "display_name": "Python 3 (ipykernel)",
   "language": "python",
   "name": "python3"
  },
  "language_info": {
   "codemirror_mode": {
    "name": "ipython",
    "version": 3
   },
   "file_extension": ".py",
   "mimetype": "text/x-python",
   "name": "python",
   "nbconvert_exporter": "python",
   "pygments_lexer": "ipython3",
   "version": "3.12.11"
  }
 },
 "nbformat": 4,
 "nbformat_minor": 5
}
